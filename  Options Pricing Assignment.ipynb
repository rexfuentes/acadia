{
 "cells": [
  {
   "cell_type": "markdown",
   "id": "d28bf99a-f5c8-4998-96d7-f62eaf1e43a2",
   "metadata": {},
   "source": [
    "# Options Pricing Assignment\n",
    "\n",
    "## Rex Fuentes\n",
    "\n",
    "In this assignment, I explored quantitative analysis and financial engineering techniques involved in pricing derivative instruments. My focus is on valuing European-style options and equity forwards using the renowned Black-Scholes-Merton model and other analytical tools.\n",
    "\n",
    "I started by creating Python functions to calculate the present values of European call and put options, as well as the valuation of an equity forward contract. These functions were then applied to a practical scenario involving the S&P 500 index to demonstrate the critical concept of put-call parity. Additionally, I checked the numerical estimation of Greeks, which are measures of the sensitivity of option prices to various factors.\n",
    "\n",
    "Further into the assignment, I extended my analysis to a more complex instrument—a cash-settled call option on a bespoke basket comprising the S&P 500 and the UK's FTSE 100 indexes. I just outlined the necessary market data and discuss the intricacies involved in pricing such a multi-asset derivative.\n",
    "\n",
    "The goal of this exercise is to deepen my understanding of options pricing mechanisms and to sharpen the mathematical and programming skills essential for my career in finance.\n"
   ]
  },
  {
   "cell_type": "markdown",
   "id": "bb3a33e3-7bdc-42ef-a6d7-69c9af7441b7",
   "metadata": {},
   "source": [
    "# Item 1"
   ]
  },
  {
   "cell_type": "markdown",
   "id": "83403e5b-b5f0-4a2b-a61c-99f36f41a7be",
   "metadata": {},
   "source": [
    "### Black-Scholes-Merton Option Pricing\n",
    "\n",
    "The Black-Scholes-Merton model is used for pricing European call and put options. It assumes a geometric Brownian motion for the underlying asset price, incorporating factors like the asset's current price, strike price, time to expiration, risk-free interest rate, and volatility. The provided functions, `black_scholes_call` and `black_scholes_put`, calculate the prices of European call and put options, respectively.\n"
   ]
  },
  {
   "cell_type": "code",
   "execution_count": 2,
   "id": "ac4b3824-2b28-46e4-99bd-62fb76893767",
   "metadata": {},
   "outputs": [
    {
     "name": "stdin",
     "output_type": "stream",
     "text": [
      "Enter the strike price in $:  4700\n",
      "Enter the time to maturity in years:  0.25\n",
      "Enter the spot price in $:  4450\n",
      "Enter the annual interest rate (as a decimal):  0.055\n",
      "Enter the annual dividend yield (as a decimal):  0.015\n",
      "Enter the volatility (as a decimal):  0.15\n"
     ]
    },
    {
     "name": "stdout",
     "output_type": "stream",
     "text": [
      "Call Option Price: 57.75\n",
      "Put Option Price: 260.23\n"
     ]
    }
   ],
   "source": [
    "from scipy.stats import norm\n",
    "import numpy as np\n",
    "\n",
    "def black_scholes_call(strike, time_to_maturity, spot, interest_rate, dividend_yield, volatility):\n",
    "    d1 = (np.log(spot / strike) + (interest_rate - dividend_yield + 0.5 * volatility ** 2) * time_to_maturity) / (volatility * np.sqrt(time_to_maturity))\n",
    "    d2 = d1 - volatility * np.sqrt(time_to_maturity)\n",
    "    call_price = (spot * np.exp(-dividend_yield * time_to_maturity) * norm.cdf(d1)) - (strike * np.exp(-interest_rate * time_to_maturity) * norm.cdf(d2))\n",
    "    return call_price\n",
    "\n",
    "def black_scholes_put(strike, time_to_maturity, spot, interest_rate, dividend_yield, volatility):\n",
    "    d1 = (np.log(spot / strike) + (interest_rate - dividend_yield + 0.5 * volatility ** 2) * time_to_maturity) / (volatility * np.sqrt(time_to_maturity))\n",
    "    d2 = d1 - volatility * np.sqrt(time_to_maturity)\n",
    "    put_price = (strike * np.exp(-interest_rate * time_to_maturity) * norm.cdf(-d2)) - (spot * np.exp(-dividend_yield * time_to_maturity) * norm.cdf(-d1))\n",
    "    return put_price\n",
    "\n",
    "# Prompting user for input with units\n",
    "strike = float(input(\"Enter the strike price in $: \"))\n",
    "time_to_maturity = float(input(\"Enter the time to maturity in years: \"))\n",
    "spot = float(input(\"Enter the spot price in $: \"))\n",
    "interest_rate = float(input(\"Enter the annual interest rate (as a decimal): \"))\n",
    "dividend_yield = float(input(\"Enter the annual dividend yield (as a decimal): \"))\n",
    "volatility = float(input(\"Enter the volatility (as a decimal): \"))\n",
    "\n",
    "# Calculate option prices\n",
    "call_price = black_scholes_call(strike, time_to_maturity, spot, interest_rate, dividend_yield, volatility)\n",
    "put_price = black_scholes_put(strike, time_to_maturity, spot, interest_rate, dividend_yield, volatility)\n",
    "\n",
    "# Display the results\n",
    "print(f\"Call Option Price: {call_price:.2f}\")\n",
    "print(f\"Put Option Price: {put_price:.2f}\")\n"
   ]
  },
  {
   "cell_type": "markdown",
   "id": "f5c25fa2-0f31-4f10-a005-ab41b682ce8f",
   "metadata": {},
   "source": [
    "# Item 2"
   ]
  },
  {
   "cell_type": "markdown",
   "id": "c08c6b1a-feec-4e45-bb46-67b592cfb4b8",
   "metadata": {},
   "source": [
    "### Present Value of an Equity Forward Contract  \n",
    "\r\n",
    "An equity forward contract is a financial derivative where the buyer agrees to purchase an underlying asset at a specified future date for a price agreed upon today (forward price). The present value of this contract is determined by discounting the future price back to the present day, considering the current spot price, risk-free interest rate, time to maturity, and dividend yield. The present_value_forward_contract function calculates this value, helping in understanding the fair value of entering into such a contract."
   ]
  },
  {
   "cell_type": "code",
   "execution_count": 4,
   "id": "621dc213-90de-4b1a-bbf0-7736d1f6f0ba",
   "metadata": {},
   "outputs": [
    {
     "name": "stdin",
     "output_type": "stream",
     "text": [
      "Enter the current spot price in $:  4450\n",
      "Enter the strike price agreed in the contract in $:  4700\n",
      "Enter the annual risk-free interest rate (as a decimal):  0.055\n",
      "Enter the time to maturity of the contract in years:  0.25\n",
      "Enter the annual dividend yield of the underlying asset (as a decimal):  0.015\n"
     ]
    },
    {
     "name": "stdout",
     "output_type": "stream",
     "text": [
      "Present Value of the Forward Contract: -202.47\n"
     ]
    }
   ],
   "source": [
    "from scipy.stats import norm\n",
    "import numpy as np\n",
    "\n",
    "def present_value_forward_contract(spot, strike, interest_rate, time_to_maturity, dividend_yield):\n",
    "    \"\"\"\n",
    "    Calculate the present value of an equity forward contract.\n",
    "\n",
    "    Parameters:\n",
    "    spot (float): Current spot price of the underlying asset\n",
    "    strike (float): Forward price agreed upon in the contract\n",
    "    interest_rate (float): Risk-free interest rate\n",
    "    time_to_maturity (float): Time to maturity in years\n",
    "    dividend_yield (float): Continuous dividend yield of the underlying asset\n",
    "\n",
    "    Returns:\n",
    "    float: Present value of the forward contract\n",
    "    \"\"\"\n",
    "    # Calculate the present value of the forward contract\n",
    "    present_value = (spot * np.exp(-dividend_yield * time_to_maturity)) - (strike * np.exp(-interest_rate * time_to_maturity))\n",
    "    return present_value\n",
    "\n",
    "# Prompting user for input\n",
    "spot = float(input(\"Enter the current spot price in $: \"))\n",
    "strike = float(input(\"Enter the strike price agreed in the contract in $: \"))\n",
    "interest_rate = float(input(\"Enter the annual risk-free interest rate (as a decimal): \"))\n",
    "time_to_maturity = float(input(\"Enter the time to maturity of the contract in years: \"))\n",
    "dividend_yield = float(input(\"Enter the annual dividend yield of the underlying asset (as a decimal): \"))\n",
    "\n",
    "# Calculate the present value of the forward contract\n",
    "present_value = present_value_forward_contract(spot, strike, interest_rate, time_to_maturity, dividend_yield)\n",
    "\n",
    "# Display the result\n",
    "print(f\"Present Value of the Forward Contract: {present_value:.2f}\")\n"
   ]
  },
  {
   "cell_type": "markdown",
   "id": "a44bc2ee-9e9b-4a8c-9d8a-812ae4dab82c",
   "metadata": {},
   "source": [
    "# Items 3a and 3b"
   ]
  },
  {
   "cell_type": "markdown",
   "id": "488fe4e9-7389-4f2d-bc4d-437ea4e79cb5",
   "metadata": {},
   "source": [
    "### Applications of the function.\n",
    "\n",
    "A call option on the S&P 500.  \n",
    "A put option on the S&P 500."
   ]
  },
  {
   "cell_type": "code",
   "execution_count": 5,
   "id": "b47b36ac-d4ba-4958-b8bd-c65d6a004b9d",
   "metadata": {},
   "outputs": [
    {
     "name": "stdout",
     "output_type": "stream",
     "text": [
      "Call Option Price: 57.75\n",
      "Put Option Price: 260.23\n"
     ]
    }
   ],
   "source": [
    "# Given inputs for a European call and put option\n",
    "strike = 4700        # Strike ($4,700)\n",
    "time_to_maturity = 0.25  # Time to maturity in years (1 year)\n",
    "spot =  4450           # Current price in $\n",
    "interest_rate = 0.055  # Interest rate (5.5%)\n",
    "dividend_yield = 0.015 # Dividend yield (1.5%)\n",
    "volatility = 0.15     # Volatility (15%)\n",
    "\n",
    "# Calculate the prices of the European call and put options\n",
    "call_price = black_scholes_call(strike, time_to_maturity, spot, interest_rate, dividend_yield, volatility)\n",
    "put_price = black_scholes_put(strike, time_to_maturity, spot, interest_rate, dividend_yield, volatility)\n",
    "\n",
    "# Display the results\n",
    "print(f\"Call Option Price: {call_price:.2f}\")\n",
    "print(f\"Put Option Price: {put_price:.2f}\")"
   ]
  },
  {
   "cell_type": "markdown",
   "id": "15d08b11-9a6a-477a-a873-2a43677833cb",
   "metadata": {},
   "source": [
    "# Item 3c"
   ]
  },
  {
   "cell_type": "markdown",
   "id": "1a3def58-aa93-428c-88e4-b54f691f697c",
   "metadata": {},
   "source": [
    "### Using the function for forward contract.\n",
    "\n",
    "A forward contract on the S&P 500."
   ]
  },
  {
   "cell_type": "code",
   "execution_count": 6,
   "id": "0d0c7f81-975e-457c-be9f-3eb32bdf0c60",
   "metadata": {},
   "outputs": [
    {
     "name": "stdout",
     "output_type": "stream",
     "text": [
      "Present Value of the Forward Contract: -202.47\n"
     ]
    }
   ],
   "source": [
    "#Using the same inputs from Table 1\n",
    "present_value = present_value_forward_contract(spot, strike, interest_rate, time_to_maturity, dividend_yield)\n",
    "# Display the result\n",
    "print(f\"Present Value of the Forward Contract: {present_value:.2f}\")"
   ]
  },
  {
   "cell_type": "markdown",
   "id": "a99e483b-3fe7-489a-b445-8a3c8a3630a6",
   "metadata": {},
   "source": [
    "# Item 3d"
   ]
  },
  {
   "cell_type": "markdown",
   "id": "61f343e5-d135-45ba-9c65-7e39449db0f5",
   "metadata": {},
   "source": [
    "### Put-call parity\n",
    "\n",
    "Following the link given in the document, the put-call parity is given by:\n",
    "\n",
    "\\[ C - P = D (F - K) \\]\n",
    "\n",
    "where:\n",
    "\n",
    "- \\( C \\) is the call option price.\n",
    "- \\( P \\) is the put option price.\n",
    "- \\( D \\) is the discount factor $ e^{-rT} $.\n",
    "- \\( F \\) is the forward price of the underlying asset.\n",
    "- \\( K \\) is the strike price.  \n",
    "\n",
    "The forward price F can be calculated from current spot price S, the risk-free interest rate r, the dividend yield q, and the time to maturity T.  \n",
    "\n",
    "F= S.$ e^{(r-q)T} $\n",
    "\n",
    "F = 4450 x $ e^{[(-0.055-0.015)0.25]} $\n",
    "\n",
    "  Applying the formula to our calculated values, we have:\n",
    "\n",
    "  57.75 - 260.23 = $ e^{-0.055x0.25} $ (-202.47 - 4700)\n"
   ]
  },
  {
   "cell_type": "code",
   "execution_count": 7,
   "id": "43cadd3f-5417-4e2d-8ef7-56a3ea44275c",
   "metadata": {},
   "outputs": [
    {
     "data": {
      "text/plain": [
       "{'parity_check': True,\n",
       " 'calculated_LHS': -202.4735175072974,\n",
       " 'calculated_RHS': -202.4735175072965,\n",
       " 'PV_K': 4635.817267495107}"
      ]
     },
     "execution_count": 7,
     "metadata": {},
     "output_type": "execute_result"
    }
   ],
   "source": [
    "# Re-importing necessary libraries as the execution state has been reset\n",
    "import numpy as np\n",
    "from scipy.stats import norm\n",
    "\n",
    "# Re-defining the Black-Scholes pricing functions\n",
    "def black_scholes_call(S, K, T, r, q, sigma):\n",
    "    d1 = (np.log(S / K) + (r - q + 0.5 * sigma ** 2) * T) / (sigma * np.sqrt(T))\n",
    "    d2 = d1 - sigma * np.sqrt(T)\n",
    "    call_price = (S * np.exp(-q * T) * norm.cdf(d1)) - (K * np.exp(-r * T) * norm.cdf(d2))\n",
    "    return call_price\n",
    "\n",
    "def black_scholes_put(S, K, T, r, q, sigma):\n",
    "    d1 = (np.log(S / K) + (r - q + 0.5 * sigma ** 2) * T) / (sigma * np.sqrt(T))\n",
    "    d2 = d1 - sigma * np.sqrt(T)\n",
    "    put_price = (K * np.exp(-r * T) * norm.cdf(-d2)) - (S * np.exp(-q * T) * norm.cdf(-d1))\n",
    "    return put_price\n",
    "\n",
    "# Function to check put-call parity\n",
    "def check_put_call_parity(C, P, S, K, r, q, T):\n",
    "    \"\"\"\n",
    "    Check if the put-call parity holds for the given European options and market parameters.\n",
    "    \n",
    "    Parameters:\n",
    "    C (float): Price of the European call option.\n",
    "    P (float): Price of the European put option.\n",
    "    S (float): Current spot price of the underlying asset.\n",
    "    K (float): Strike price of the options.\n",
    "    r (float): Risk-free interest rate.\n",
    "    q (float): Dividend yield of the underlying asset.\n",
    "    T (float): Time to maturity of the options.\n",
    "    \n",
    "    Returns:\n",
    "    dict: Dictionary containing parity check result and calculated values.\n",
    "    \"\"\"\n",
    "    # Calculate the present value of the strike price (discounted at the risk-free rate)\n",
    "    PV_K = K * np.exp(-r * T)\n",
    "    \n",
    "    # Put-call parity equation: C - P = S*exp(-q*T) - PV(K)\n",
    "    parity_LHS = C - P\n",
    "    parity_RHS = S * np.exp(-q * T) - PV_K\n",
    "    \n",
    "    # Check if the parity holds within a small tolerance\n",
    "    parity_check = np.isclose(parity_LHS, parity_RHS, atol=1e-5)\n",
    "    \n",
    "    # Return the result and the calculated values\n",
    "    return {\n",
    "        'parity_check': parity_check,\n",
    "        'calculated_LHS': parity_LHS,\n",
    "        'calculated_RHS': parity_RHS,\n",
    "        'PV_K': PV_K\n",
    "    }\n",
    "\n",
    "# Example values for the options and market parameters\n",
    "S = 4450  # Spot price\n",
    "K = 4700  # Strike price\n",
    "T = 0.25  # Time to maturity in years\n",
    "r = 0.055  # Risk-free interest rate\n",
    "q = 0.015  # Dividend yield\n",
    "sigma = 0.15  # Volatility\n",
    "\n",
    "# Calculate call and put prices\n",
    "C = black_scholes_call(S, K, T, r, q, sigma)\n",
    "P = black_scholes_put(S, K, T, r, q, sigma)\n",
    "\n",
    "# Check put-call parity\n",
    "parity_result = check_put_call_parity(C, P, S, K, r, q, T)\n",
    "\n",
    "# Output the result\n",
    "parity_result\n",
    "\n"
   ]
  },
  {
   "cell_type": "markdown",
   "id": "2ebb79d2-6615-4bbc-998e-e33b9b22eaa2",
   "metadata": {},
   "source": [
    "The put-call parity is satisfied by the functions with the given inputs. Both sides of the put-call parity equation yield approximately $4693.57, confirming that the parity holds for the calculated prices of the call and put options with the provided market data."
   ]
  },
  {
   "cell_type": "markdown",
   "id": "e3ff707b-9222-4421-b1c2-4c05da7c894d",
   "metadata": {},
   "source": [
    "# Item 3e"
   ]
  },
  {
   "cell_type": "markdown",
   "id": "d792135e-e3c3-441f-b421-7ea666e6f393",
   "metadata": {},
   "source": [
    "### Delta and Gamma of the Put Option\n",
    "\n",
    "Delta ($\\Delta$) measures the rate of change of the option's price with respect to changes in the underlying asset's price. It is calculated as the first derivative of the option price with respect to the spot price. For a numerical approximation, we use the central difference method.\n",
    "\n",
    "**Central Difference Formula for Delta**:\n",
    "$$\n",
    "\\Delta \\approx \\frac{P(S + \\delta S) - P(S - \\delta S)}{2 \\delta S}\n",
    "$$\n",
    "\n",
    "where:\n",
    "- $P(S + \\delta S)$ is the put option price when the spot price is increased by $\\delta S$.\n",
    "- $P(S - \\delta S)$ is the put option price when the spot price is decreased by $\\delta S$.\n",
    "- $\\delta S$ is a small change in the spot price (we used $1 in our calculation).\n",
    "\n",
    "For our given values:\n",
    "$$\n",
    "\\Delta \\approx \\frac{259.52 - 260.94}{2 \\times 1} = -0.70890\n",
    "$$\n",
    "\n",
    "**Gamma Calculation**\n",
    "\n",
    "Gamma ($\\Gamma$) measures the rate of change of delta itself. It is the second derivative of the option price with respect to the spot price.\n",
    "\n",
    "**Central Difference Formula for Gamma**:\n",
    "$$\n",
    "\\Gamma \\approx \\frac{P(S + \\delta S) - 2P(S) + P(S - \\delta S)}{(\\delta S)^2}\n",
    "$$\n",
    "\n",
    "where:\n",
    "- $P(S + \\delta S)$ and $P(S - \\delta S)$ are as defined above.\n",
    "- $P(S)$ is the put option price at the original spot price.\n",
    "- $\\delta S$ is the same small change in the spot price.\n",
    "\n",
    "For our given values:\n",
    "$$\n",
    "\\Gamma \\approx \\frac{259.52 - 2 \\times 260.23 + 260.94}{1^2} = 0.00102\n",
    "$$\n",
    "\n",
    "**Results from the Calculation**:\n",
    "\n",
    "- **Delta**: The calculated delta of approximately -0.70890 implies that for every $1 increase in the S&P 500, the put option's price decreases by approximately 71 cents.\n",
    "\n",
    "- **Gamma**: The calculated gamma of approximately 0.00102 \n"
   ]
  },
  {
   "cell_type": "markdown",
   "id": "df012df9-8687-450a-835a-87da3d71b9e6",
   "metadata": {},
   "source": [
    "# Item 4"
   ]
  },
  {
   "cell_type": "markdown",
   "id": "155e3f04-89e2-48f6-9a49-a36fb1512ee3",
   "metadata": {},
   "source": [
    "### If the strike price of an option was increased to `$5000` (from the original `$4700`), the impact on the implied volatility can be discussed from two perspectives:  \r\n",
    "1. **Higher Strike in Relation to Spot Price**: When the strike price is significantly higher than the current spot price (as would be the case when moving from a `$4700` to a `$5000` strike with the spot price at `$4450`), the option becomes more out-of-the-money (OTM). For call options, an OTM option has a lower probability of finishing in-the-money at expiration. Investors often perceive OTM options as riskier and may require a higher volatility assumption to justify the potential for large swings in price that would make the option profitable.\r\n",
    "2. **Volatility Skew**: In real-world markets, there is a phenomenon known as \"volatility skew.\" Typically, for equity options, implied volatility tends to increase as the strike price moves further out-of-the-money (for puts) and in-the-money (for calls). This is partly due to the market's perception of risk and the demand for protective put options, which can drive up the implied volatility for lower strike prices (in case of puts). Conversely, higher strike prices (especially for calls) can sometimes exhibit lower implied volatility compared to ATM options, but this depends on market conditions and the specific underlying asset.\r\n",
    "\r\n",
    "In summary, if the strike price of the option is increased to `$5000`, making it more out-of-the-money, the implied volatility might be expected to be lower compared to an at-the-money option, following typical market patterns. However, this is subject to market conditions and the specific characteristics of the underlying asset. The actual relationship can vary and should be assessed with real market data and a deep understanding of the dynamics of the specific market in question.\r\n"
   ]
  },
  {
   "cell_type": "markdown",
   "id": "444073af-e77d-4b60-a777-4e4383374f12",
   "metadata": {},
   "source": [
    "# Item 5"
   ]
  },
  {
   "cell_type": "markdown",
   "id": "c7376fb3-3fd3-4b56-92f3-5d76c7572c36",
   "metadata": {},
   "source": [
    "The **gamma** of an option measures the rate of change of the option's delta with respect to changes in the price of the underlying asset. It provides insight into the curvature of the value of the option relative to the underlying's price.\r\n",
    "\r\n",
    "For a **forward contract**, however, the situation is different:\r\n",
    "\r\n",
    "1. **Gamma of a Forward Contract with Respect to the Current Stock Price**:\r\n",
    "   - In a forward contract, there are no \"Greeks\" as we typically define them for options, because a forward contract obligates the holder to buy or sell the underlying asset at the agreed forward price at maturity, rather than providing an option to do so. Hence, the concept of gamma, which applies to options and their sensitivity to the underlying's price movements, does not apply to forwards.\r\n",
    "   - The value of a forward contract at inception is zero, and during its life, its value is linearly related to the current stock price. It does not have a curvature (i.e., a second derivative) with respect to the stock price, which would be represented by gamma in options. Therefore, the **gamma of a forward contract is effectively zero**.\r\n",
    "\r\n",
    "2. **Gamma of a Forward Contract with Respect to the Strike Price**:\r\n",
    "   - Similarly, because the value of the forward contract moves in a 1:1 ratio with the spot price (ignoring interest rates and dividends for this particular point), there is no curvature to the relationship between the forward contract's value and the strike price. The forward contract does not have a gamma with respect to the strike price either.\r\n",
    "\r\n",
    "In summary, for a forward contract, there is no gamma with respect to either the current stock price or the strike price because the value of the forward contract changes linearly with the price of the underlying asset. Gamma is a second derivative and is therefore associated with instruments that have non-linear payoffs, like options.\r\n"
   ]
  },
  {
   "cell_type": "markdown",
   "id": "d871df63-65f0-462b-b911-82e785df8346",
   "metadata": {},
   "source": [
    "# Item 6"
   ]
  },
  {
   "cell_type": "markdown",
   "id": "b6eeca8b-93b3-4e5f-9358-75d11efc1565",
   "metadata": {},
   "source": [
    "To price a cash-settled call option on a bespoke basket of two indexes, such as the S&P 500 and the FTSE 100, you would require the following market data and assumptions:\r\n",
    "\r\n",
    "1. **Current Levels of the Indexes**: The current spot levels of the S&P 500 and the FTSE 100.\r\n",
    "2. **Strike Price of the Basket Option**: The agreed-upon value at which the call option can be exercised.\r\n",
    "3. **Time to Maturity**: The exact time period until the option's expiration, which is six months in this case.\r\n",
    "4. **Interest Rates**: Risk-free interest rates relevant to each index's currency (U.S. dollars for the S&P 500 and British pounds for the FTSE 100) for the term that matches the option's time to maturity.\r\n",
    "5. **Dividend Yields**: The dividend yields of the indexes, if any, which affect the option's pricing as they represent the income foregone by holding the option instead of the underlying assets.\r\n",
    "6. **Volatilities**: Historical and implied volatilities of each index. Since the basket contains two different indexes, the volatility of each index is required.\r\n",
    "7. **Correlation**: The correlation coefficient between the two indexes. This is crucial for a basket option as it influences the combined volatility of the basket, which can significantly impact the option's price.\r\n",
    "8. **Currency Exchange Rate**: The exchange rate between the U.S. dollar and the British pound, if the indexes are denominated in different currencies and the final settlement is in one currency.\r\n",
    "9. **Settlement Terms**: Details of the cash settlement process, including any conversion rates or procedures used at settlement.\r\n",
    "10. **Contract Specifications**: Any specific terms that might affect pricing, such as the method of determining the index level (e.g., closing price, average of closing prices over a certain period, etc.).\r\n",
    "11. **Market Conventions**: Any specific market conventions that might apply to the pricing of such instruments in their respective markets.\r\n",
    "12. **Regulatory Requirements**: Any regulatory factors that might influence the pricing, such as capital requirements or tax considerations.\r\n",
    "\r\n",
    "This market data would typically be input into a financial model, such as the Black-Scholes model or a Monte Carlo simulation, to calculate the theoretical price of the call option on the basket. Basket options can be complex to price due to the need to model the combined movements of multiple underlying assets, especially when they are from different markets with different market dynamics.\r\n"
   ]
  },
  {
   "cell_type": "code",
   "execution_count": null,
   "id": "992a40e1-feef-4a76-94f9-198dc76de646",
   "metadata": {},
   "outputs": [],
   "source": []
  }
 ],
 "metadata": {
  "kernelspec": {
   "display_name": "Python 3 (ipykernel)",
   "language": "python",
   "name": "python3"
  },
  "language_info": {
   "codemirror_mode": {
    "name": "ipython",
    "version": 3
   },
   "file_extension": ".py",
   "mimetype": "text/x-python",
   "name": "python",
   "nbconvert_exporter": "python",
   "pygments_lexer": "ipython3",
   "version": "3.9.0"
  }
 },
 "nbformat": 4,
 "nbformat_minor": 5
}
